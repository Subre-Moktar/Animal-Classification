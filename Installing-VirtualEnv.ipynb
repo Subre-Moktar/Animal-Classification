{
 "cells": [
  {
   "cell_type": "markdown",
   "metadata": {},
   "source": [
    "Hello, This file will just help you get started using Python Venv enviornment, I will be creating this so I can have some steps for you to follow."
   ]
  },
  {
   "cell_type": "code",
   "execution_count": null,
   "metadata": {},
   "outputs": [],
   "source": [
    "# Install the package virtualenv so that we could create a virtual enviornment\n",
    "# pip install virtualenv - Terminal use\n",
    "%pip install virtualenv"
   ]
  },
  {
   "cell_type": "markdown",
   "metadata": {},
   "source": [
    "Once You have installed the virtual enviornment run this in the terminal\n",
    "Also house rules this will create a folder where you directory is in the terminal\n",
    "Therefore if you want create a folder where you would save everything in one location for this project.\n"
   ]
  },
  {
   "cell_type": "markdown",
   "metadata": {},
   "source": [
    "python3.11 -m venv < nameoftheenviornment>\n",
    "\n",
    "Example\n",
    "\n",
    "python3.11 -m venv objectdetection\n",
    "\n",
    "This has created your own virtual enviorment"
   ]
  },
  {
   "cell_type": "markdown",
   "metadata": {},
   "source": [
    "![alt text](image.png)\n"
   ]
  },
  {
   "cell_type": "markdown",
   "metadata": {},
   "source": [
    "Depending on the terminal use the image above to activate your virtual enviornemnt in the terminal\n"
   ]
  }
 ],
 "metadata": {
  "language_info": {
   "name": "python"
  }
 },
 "nbformat": 4,
 "nbformat_minor": 2
}
